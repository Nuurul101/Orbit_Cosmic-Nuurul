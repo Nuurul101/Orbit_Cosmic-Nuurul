{
  "nbformat": 4,
  "nbformat_minor": 0,
  "metadata": {
    "colab": {
      "provenance": [],
      "authorship_tag": "ABX9TyM+7WimFbQWgUTQyK7vBNiz",
      "include_colab_link": true
    },
    "kernelspec": {
      "name": "python3",
      "display_name": "Python 3"
    },
    "language_info": {
      "name": "python"
    }
  },
  "cells": [
    {
      "cell_type": "markdown",
      "metadata": {
        "id": "view-in-github",
        "colab_type": "text"
      },
      "source": [
        "<a href=\"https://colab.research.google.com/github/Nuurul101/Orbit_Cosmic-Nuurul/blob/main/Coba%20Python_1_Let's_Start_Coding.ipynb\" target=\"_parent\"><img src=\"https://colab.research.google.com/assets/colab-badge.svg\" alt=\"Open In Colab\"/></a>"
      ]
    },
    {
      "cell_type": "markdown",
      "source": [
        "#Mencetak Kalimat"
      ],
      "metadata": {
        "id": "wvq81TLAoWkk"
      }
    },
    {
      "cell_type": "code",
      "execution_count": null,
      "metadata": {
        "colab": {
          "base_uri": "https://localhost:8080/"
        },
        "id": "t1s7CiMWoGep",
        "outputId": "0ce3ab19-94ee-4e5e-cd97-56105295a3ee"
      },
      "outputs": [
        {
          "output_type": "stream",
          "name": "stdout",
          "text": [
            "Hallo Dunia\n"
          ]
        }
      ],
      "source": [
        "print ('Hallo Dunia')"
      ]
    },
    {
      "cell_type": "code",
      "source": [
        "print(\"Hallo Dunia\")"
      ],
      "metadata": {
        "colab": {
          "base_uri": "https://localhost:8080/"
        },
        "id": "bVgj_PWFoxqM",
        "outputId": "1737b2a2-9a57-4a62-9723-4e79d09c8c92"
      },
      "execution_count": null,
      "outputs": [
        {
          "output_type": "stream",
          "name": "stdout",
          "text": [
            "Hallo Dunia\n"
          ]
        }
      ]
    },
    {
      "cell_type": "code",
      "source": [
        "print('Besok hari Jum\\'at')"
      ],
      "metadata": {
        "colab": {
          "base_uri": "https://localhost:8080/"
        },
        "id": "6N69MFkzp-4U",
        "outputId": "5e30a52a-2560-44af-c444-bfecd5a6def2"
      },
      "execution_count": null,
      "outputs": [
        {
          "output_type": "stream",
          "name": "stdout",
          "text": [
            "Besok hari Jum'at\n"
          ]
        }
      ]
    },
    {
      "cell_type": "markdown",
      "source": [
        "ditambah tanda miring karena dikalimat jum'at ada petik satu juga"
      ],
      "metadata": {
        "id": "9dBG5su2qLHu"
      }
    },
    {
      "cell_type": "markdown",
      "source": [
        "#Komentar (Comment)"
      ],
      "metadata": {
        "id": "MydAWV6wo7TT"
      }
    },
    {
      "cell_type": "code",
      "source": [
        "#ini adalah program untuk mencetak kalimat\n",
        "print('selamat pagi')"
      ],
      "metadata": {
        "colab": {
          "base_uri": "https://localhost:8080/"
        },
        "id": "jsKTRZVJpLbJ",
        "outputId": "80b7941a-6f84-48ad-b7ee-cd6e615dba7d"
      },
      "execution_count": null,
      "outputs": [
        {
          "output_type": "stream",
          "name": "stdout",
          "text": [
            "selamat pagi\n"
          ]
        }
      ]
    },
    {
      "cell_type": "markdown",
      "source": [
        "cukup menambahkan tanda pagar di depan kalimat"
      ],
      "metadata": {
        "id": "rJIhCDcQq5Ae"
      }
    },
    {
      "cell_type": "markdown",
      "source": [
        "#Multiple Code"
      ],
      "metadata": {
        "id": "-CrxJX7irZWb"
      }
    },
    {
      "cell_type": "code",
      "source": [
        "print ('Hai...')\n",
        "print ('Namaku Nuurul')\n",
        "print ('Aku dari Telkom University')\n",
        "print (\"Sekian\")"
      ],
      "metadata": {
        "colab": {
          "base_uri": "https://localhost:8080/"
        },
        "id": "NCwXx16Kr3Zo",
        "outputId": "e0c52af0-6a55-4db2-d2b5-73861aa3cc2a"
      },
      "execution_count": null,
      "outputs": [
        {
          "output_type": "stream",
          "name": "stdout",
          "text": [
            "Hai...\n",
            "Namaku Nuurul\n",
            "Aku dari Telkom University\n",
            "Sekian\n"
          ]
        }
      ]
    },
    {
      "cell_type": "code",
      "source": [
        "print ('Hai...', end=' ')\n",
        "print ('Namaku Nuurul', end=' ')\n",
        "print ('Aku dari Telkom University', end=' ')\n",
        "print (\"Sekian\", end=\" \")"
      ],
      "metadata": {
        "colab": {
          "base_uri": "https://localhost:8080/"
        },
        "id": "qsOFksSKsrCU",
        "outputId": "adc1ee20-54ba-4c0f-9e32-1039f524e1bc"
      },
      "execution_count": null,
      "outputs": [
        {
          "output_type": "stream",
          "name": "stdout",
          "text": [
            "Hai... Namaku Nuurul Aku dari Telkom University Sekian "
          ]
        }
      ]
    },
    {
      "cell_type": "code",
      "source": [
        "print(\"\"\"ini adalah sebuah paragraf\n",
        "paragraf ini panjang sekali\n",
        "hingga membutuhkan banyak baris dalam\n",
        "menuliskan peragraf ini\"\"\")\n",
        "\n",
        "# petik dua tiga kali digunakan bila menuliskan paragraf yang panjang"
      ],
      "metadata": {
        "colab": {
          "base_uri": "https://localhost:8080/"
        },
        "id": "6No0rOGetb9h",
        "outputId": "4070c61b-09b6-4712-fc6f-4aede56a1adc"
      },
      "execution_count": null,
      "outputs": [
        {
          "output_type": "stream",
          "name": "stdout",
          "text": [
            "ini adalah sebuah paragraf\n",
            "paragraf ini panjang sekali\n",
            "hingga membutuhkan banyak baris dalam\n",
            "menuliskan peragraf ini\n"
          ]
        }
      ]
    },
    {
      "cell_type": "code",
      "source": [
        "\"\"\"paragraf ini berisi komen panjang\n",
        "bla bla bla bla bla bla bla bla bla\n",
        "bla bla bla bla bla bla bla bla.\"\"\""
      ],
      "metadata": {
        "colab": {
          "base_uri": "https://localhost:8080/",
          "height": 35
        },
        "id": "UjLMTMmPvTKk",
        "outputId": "97555f24-3a8a-43f8-d937-7a99f1674fd7"
      },
      "execution_count": null,
      "outputs": [
        {
          "output_type": "execute_result",
          "data": {
            "text/plain": [
              "'paragraf ini berisi komen panjang\\nbla bla bla bla bla bla bla bla bla \\nbla bla bla bla bla bla bla bla.'"
            ],
            "application/vnd.google.colaboratory.intrinsic+json": {
              "type": "string"
            }
          },
          "metadata": {},
          "execution_count": 14
        }
      ]
    },
    {
      "cell_type": "markdown",
      "source": [
        "#Escape Character\n"
      ],
      "metadata": {
        "id": "50QeJ0tCvmQ9"
      }
    },
    {
      "cell_type": "markdown",
      "source": [
        "**Escape Sequence**\n",
        "- [\\ dan ']   Menambahkan tanda petik tunggal dalam teks\n",
        "- [\\ dan \"]   Menambahkan tanda petik ganda dalam teks\n",
        "- [\\ dan n]   Menambahkan baris baru dalam teks\n",
        "- [\\ dan t]   Menambahkan tab horizotal dalam teks\n",
        "- [\\ dan \\ ]    Menambahkan backslash dalam teks"
      ],
      "metadata": {
        "id": "cRvxXpw7v1jV"
      }
    },
    {
      "cell_type": "code",
      "source": [
        "print(\"satu dua tiga\")"
      ],
      "metadata": {
        "colab": {
          "base_uri": "https://localhost:8080/"
        },
        "id": "F3LtlO-Aw_Xn",
        "outputId": "6de0b755-36f7-4b85-a479-5a42d8179af5"
      },
      "execution_count": null,
      "outputs": [
        {
          "output_type": "stream",
          "name": "stdout",
          "text": [
            "satu dua tiga\n"
          ]
        }
      ]
    },
    {
      "cell_type": "code",
      "source": [
        "print(\"satu\\ndua\\ntiga\")"
      ],
      "metadata": {
        "colab": {
          "base_uri": "https://localhost:8080/"
        },
        "id": "yv_yvRFtxiKY",
        "outputId": "e16e63f9-837a-464e-e74a-6a038df563ce"
      },
      "execution_count": null,
      "outputs": [
        {
          "output_type": "stream",
          "name": "stdout",
          "text": [
            "satu\n",
            "dua\n",
            "tiga\n"
          ]
        }
      ]
    },
    {
      "cell_type": "code",
      "source": [
        "print('nama   : Yesa')\n",
        "print('tempat tinggal : Surabaya')"
      ],
      "metadata": {
        "colab": {
          "base_uri": "https://localhost:8080/"
        },
        "id": "E-3luNTux2h6",
        "outputId": "bfdd89b8-7dbd-4550-ee82-e029de484684"
      },
      "execution_count": null,
      "outputs": [
        {
          "output_type": "stream",
          "name": "stdout",
          "text": [
            "nama   : Yesa\n",
            "tempat tinggal : Surabaya\n"
          ]
        }
      ]
    },
    {
      "cell_type": "code",
      "source": [
        "print('nama\\t\\t : Yesa')\n",
        "print('tempat tinggal\\t : Surabaya')"
      ],
      "metadata": {
        "colab": {
          "base_uri": "https://localhost:8080/"
        },
        "id": "AoPPLxKnyJST",
        "outputId": "1e1e4cd5-14a0-44af-da0b-1f054a3f3a6a"
      },
      "execution_count": null,
      "outputs": [
        {
          "output_type": "stream",
          "name": "stdout",
          "text": [
            "nama\t\t : Yesa\n",
            "tempat tinggal\t : Surabaya\n"
          ]
        }
      ]
    },
    {
      "cell_type": "code",
      "source": [
        "print(\"\\\\\")"
      ],
      "metadata": {
        "colab": {
          "base_uri": "https://localhost:8080/"
        },
        "id": "a2G87NPrycr_",
        "outputId": "5f4121a7-fa39-4741-93d0-e4cf6c092f01"
      },
      "execution_count": null,
      "outputs": [
        {
          "output_type": "stream",
          "name": "stdout",
          "text": [
            "\\\n"
          ]
        }
      ]
    },
    {
      "cell_type": "markdown",
      "source": [
        "#Input"
      ],
      "metadata": {
        "id": "BcZeeVOCyq95"
      }
    },
    {
      "cell_type": "code",
      "source": [
        "input('Masukkan Nama :')"
      ],
      "metadata": {
        "colab": {
          "base_uri": "https://localhost:8080/",
          "height": 52
        },
        "id": "8-hiQuIQyuwN",
        "outputId": "be50fb85-efae-4c50-eecd-089b0e53c76e"
      },
      "execution_count": null,
      "outputs": [
        {
          "name": "stdout",
          "output_type": "stream",
          "text": [
            "Masukkan Nama :Nuurul\n"
          ]
        },
        {
          "output_type": "execute_result",
          "data": {
            "text/plain": [
              "'Nuurul'"
            ],
            "application/vnd.google.colaboratory.intrinsic+json": {
              "type": "string"
            }
          },
          "metadata": {},
          "execution_count": 21
        }
      ]
    },
    {
      "cell_type": "code",
      "source": [
        "input('Masukkan Nama : ')\n",
        "input('Masukkan Tempat tinggal : ')\n",
        "input('Masukkan Hobi : ')\n",
        "input('Masukkan Jenis Kelamin : ')"
      ],
      "metadata": {
        "colab": {
          "base_uri": "https://localhost:8080/",
          "height": 104
        },
        "id": "np9Pp-Ody3zL",
        "outputId": "0703fa13-9077-4eba-bc73-5c9d9cc6247d"
      },
      "execution_count": null,
      "outputs": [
        {
          "name": "stdout",
          "output_type": "stream",
          "text": [
            "Masukkan Nama : jijah\n",
            "Masukkan Tempat tinggal : Klaten\n",
            "Masukkan Hobi : membaca\n",
            "Masukkan Jenis Kelamin : perempuan\n"
          ]
        },
        {
          "output_type": "execute_result",
          "data": {
            "text/plain": [
              "'perempuan'"
            ],
            "application/vnd.google.colaboratory.intrinsic+json": {
              "type": "string"
            }
          },
          "metadata": {},
          "execution_count": 22
        }
      ]
    },
    {
      "cell_type": "markdown",
      "source": [
        "#Latihan"
      ],
      "metadata": {
        "id": "0wgw9Datf1Gn"
      }
    },
    {
      "cell_type": "code",
      "source": [
        "from google.colab import files\n",
        "from PIL import Image\n",
        "import matplotlib.pyplot as plt\n",
        "\n",
        "# Upload file\n",
        "uploaded = files.upload()\n",
        "\n",
        "# Menampilkan gambar\n",
        "for filename in uploaded.keys():\n",
        "    img = Image.open(filename)\n",
        "    plt.imshow(img)\n",
        "    plt.axis('off')  # untuk menyembunyikan sumbu\n",
        "    plt.show()\n",
        "\n",
        "# Input informasi\n",
        "print('Seorang Manusia biasa yang mengagumi indahnya AI')\n",
        "nama = input('Nama \\t\\t\\t : ')\n",
        "jenis_kelamin = input('Jenis Kelamin\\t\\t : ')\n",
        "hobi = input('Hobi\\t\\t\\t : ')\n",
        "pendidikan = input('Pendidikan\\t\\t : ')\n",
        "pekerjaan = input('Pekerjaan\\t\\t : ')\n",
        "media_sosial = input('Media Sosial\\t\\t : ')\n",
        "kutipan_favorit = input('Kutipan Favorit\\t\\t : ')\n",
        "\n",
        "# Menampilkan pesan\n",
        "print(\"\\n\\\"kesempurnaan manusia ialah ketidaksempurnaan itu sendiri\\\"\")\n",
        "\n",
        "# Input pengalaman\n",
        "pengalaman = input('\\nPengalaman : ')\n",
        "\n",
        "# Menampilkan data yang diinput\n",
        "print(\"\\nData yang diinput:\")\n",
        "print(f\"Nama: {nama}\")\n",
        "print(f\"Jenis Kelamin: {jenis_kelamin}\")\n",
        "print(f\"Hobi: {hobi}\")\n",
        "print(f\"Pendidikan: {pendidikan}\")\n",
        "print(f\"Pekerjaan: {pekerjaan}\")\n",
        "print(f\"Media Sosial: {media_sosial}\")\n",
        "print(f\"Kutipan Favorit: {kutipan_favorit}\")\n",
        "print(f\"\\nPengalaman: {pengalaman}\")\n"
      ],
      "metadata": {
        "colab": {
          "base_uri": "https://localhost:8080/",
          "height": 861
        },
        "id": "GosZvLVVf68w",
        "outputId": "b82a52f6-7908-4d0e-9e3a-bc8ff692825c"
      },
      "execution_count": null,
      "outputs": [
        {
          "output_type": "display_data",
          "data": {
            "text/plain": [
              "<IPython.core.display.HTML object>"
            ],
            "text/html": [
              "\n",
              "     <input type=\"file\" id=\"files-cd37a9da-8187-4daa-8308-d1ceedad275d\" name=\"files[]\" multiple disabled\n",
              "        style=\"border:none\" />\n",
              "     <output id=\"result-cd37a9da-8187-4daa-8308-d1ceedad275d\">\n",
              "      Upload widget is only available when the cell has been executed in the\n",
              "      current browser session. Please rerun this cell to enable.\n",
              "      </output>\n",
              "      <script>// Copyright 2017 Google LLC\n",
              "//\n",
              "// Licensed under the Apache License, Version 2.0 (the \"License\");\n",
              "// you may not use this file except in compliance with the License.\n",
              "// You may obtain a copy of the License at\n",
              "//\n",
              "//      http://www.apache.org/licenses/LICENSE-2.0\n",
              "//\n",
              "// Unless required by applicable law or agreed to in writing, software\n",
              "// distributed under the License is distributed on an \"AS IS\" BASIS,\n",
              "// WITHOUT WARRANTIES OR CONDITIONS OF ANY KIND, either express or implied.\n",
              "// See the License for the specific language governing permissions and\n",
              "// limitations under the License.\n",
              "\n",
              "/**\n",
              " * @fileoverview Helpers for google.colab Python module.\n",
              " */\n",
              "(function(scope) {\n",
              "function span(text, styleAttributes = {}) {\n",
              "  const element = document.createElement('span');\n",
              "  element.textContent = text;\n",
              "  for (const key of Object.keys(styleAttributes)) {\n",
              "    element.style[key] = styleAttributes[key];\n",
              "  }\n",
              "  return element;\n",
              "}\n",
              "\n",
              "// Max number of bytes which will be uploaded at a time.\n",
              "const MAX_PAYLOAD_SIZE = 100 * 1024;\n",
              "\n",
              "function _uploadFiles(inputId, outputId) {\n",
              "  const steps = uploadFilesStep(inputId, outputId);\n",
              "  const outputElement = document.getElementById(outputId);\n",
              "  // Cache steps on the outputElement to make it available for the next call\n",
              "  // to uploadFilesContinue from Python.\n",
              "  outputElement.steps = steps;\n",
              "\n",
              "  return _uploadFilesContinue(outputId);\n",
              "}\n",
              "\n",
              "// This is roughly an async generator (not supported in the browser yet),\n",
              "// where there are multiple asynchronous steps and the Python side is going\n",
              "// to poll for completion of each step.\n",
              "// This uses a Promise to block the python side on completion of each step,\n",
              "// then passes the result of the previous step as the input to the next step.\n",
              "function _uploadFilesContinue(outputId) {\n",
              "  const outputElement = document.getElementById(outputId);\n",
              "  const steps = outputElement.steps;\n",
              "\n",
              "  const next = steps.next(outputElement.lastPromiseValue);\n",
              "  return Promise.resolve(next.value.promise).then((value) => {\n",
              "    // Cache the last promise value to make it available to the next\n",
              "    // step of the generator.\n",
              "    outputElement.lastPromiseValue = value;\n",
              "    return next.value.response;\n",
              "  });\n",
              "}\n",
              "\n",
              "/**\n",
              " * Generator function which is called between each async step of the upload\n",
              " * process.\n",
              " * @param {string} inputId Element ID of the input file picker element.\n",
              " * @param {string} outputId Element ID of the output display.\n",
              " * @return {!Iterable<!Object>} Iterable of next steps.\n",
              " */\n",
              "function* uploadFilesStep(inputId, outputId) {\n",
              "  const inputElement = document.getElementById(inputId);\n",
              "  inputElement.disabled = false;\n",
              "\n",
              "  const outputElement = document.getElementById(outputId);\n",
              "  outputElement.innerHTML = '';\n",
              "\n",
              "  const pickedPromise = new Promise((resolve) => {\n",
              "    inputElement.addEventListener('change', (e) => {\n",
              "      resolve(e.target.files);\n",
              "    });\n",
              "  });\n",
              "\n",
              "  const cancel = document.createElement('button');\n",
              "  inputElement.parentElement.appendChild(cancel);\n",
              "  cancel.textContent = 'Cancel upload';\n",
              "  const cancelPromise = new Promise((resolve) => {\n",
              "    cancel.onclick = () => {\n",
              "      resolve(null);\n",
              "    };\n",
              "  });\n",
              "\n",
              "  // Wait for the user to pick the files.\n",
              "  const files = yield {\n",
              "    promise: Promise.race([pickedPromise, cancelPromise]),\n",
              "    response: {\n",
              "      action: 'starting',\n",
              "    }\n",
              "  };\n",
              "\n",
              "  cancel.remove();\n",
              "\n",
              "  // Disable the input element since further picks are not allowed.\n",
              "  inputElement.disabled = true;\n",
              "\n",
              "  if (!files) {\n",
              "    return {\n",
              "      response: {\n",
              "        action: 'complete',\n",
              "      }\n",
              "    };\n",
              "  }\n",
              "\n",
              "  for (const file of files) {\n",
              "    const li = document.createElement('li');\n",
              "    li.append(span(file.name, {fontWeight: 'bold'}));\n",
              "    li.append(span(\n",
              "        `(${file.type || 'n/a'}) - ${file.size} bytes, ` +\n",
              "        `last modified: ${\n",
              "            file.lastModifiedDate ? file.lastModifiedDate.toLocaleDateString() :\n",
              "                                    'n/a'} - `));\n",
              "    const percent = span('0% done');\n",
              "    li.appendChild(percent);\n",
              "\n",
              "    outputElement.appendChild(li);\n",
              "\n",
              "    const fileDataPromise = new Promise((resolve) => {\n",
              "      const reader = new FileReader();\n",
              "      reader.onload = (e) => {\n",
              "        resolve(e.target.result);\n",
              "      };\n",
              "      reader.readAsArrayBuffer(file);\n",
              "    });\n",
              "    // Wait for the data to be ready.\n",
              "    let fileData = yield {\n",
              "      promise: fileDataPromise,\n",
              "      response: {\n",
              "        action: 'continue',\n",
              "      }\n",
              "    };\n",
              "\n",
              "    // Use a chunked sending to avoid message size limits. See b/62115660.\n",
              "    let position = 0;\n",
              "    do {\n",
              "      const length = Math.min(fileData.byteLength - position, MAX_PAYLOAD_SIZE);\n",
              "      const chunk = new Uint8Array(fileData, position, length);\n",
              "      position += length;\n",
              "\n",
              "      const base64 = btoa(String.fromCharCode.apply(null, chunk));\n",
              "      yield {\n",
              "        response: {\n",
              "          action: 'append',\n",
              "          file: file.name,\n",
              "          data: base64,\n",
              "        },\n",
              "      };\n",
              "\n",
              "      let percentDone = fileData.byteLength === 0 ?\n",
              "          100 :\n",
              "          Math.round((position / fileData.byteLength) * 100);\n",
              "      percent.textContent = `${percentDone}% done`;\n",
              "\n",
              "    } while (position < fileData.byteLength);\n",
              "  }\n",
              "\n",
              "  // All done.\n",
              "  yield {\n",
              "    response: {\n",
              "      action: 'complete',\n",
              "    }\n",
              "  };\n",
              "}\n",
              "\n",
              "scope.google = scope.google || {};\n",
              "scope.google.colab = scope.google.colab || {};\n",
              "scope.google.colab._files = {\n",
              "  _uploadFiles,\n",
              "  _uploadFilesContinue,\n",
              "};\n",
              "})(self);\n",
              "</script> "
            ]
          },
          "metadata": {}
        },
        {
          "output_type": "stream",
          "name": "stdout",
          "text": [
            "Saving IMG_1850.JPG to IMG_1850 (5).JPG\n"
          ]
        },
        {
          "output_type": "display_data",
          "data": {
            "text/plain": [
              "<Figure size 640x480 with 1 Axes>"
            ],
            "image/png": "[encoded data removed]"
          },
          "metadata": {}
        },
        {
          "output_type": "stream",
          "name": "stdout",
          "text": [
            "Seorang Manusia biasa yang mengagumi indahnya AI\n",
            "Nama \t\t\t : Nuurul 'Azizah\n",
            "Jenis Kelamin\t\t : Perempuan\n",
            "Hobi\t\t\t : Olahraga\n",
            "Pendidikan\t\t : S1 teknik Informatika\n",
            "Pekerjaan\t\t : Mahasiswa\n",
            "Media Sosial\t\t : @na.zizae_\n",
            "Kutipan Favorit\t\t : -\n",
            "\n",
            "\"kesempurnaan manusia ialah ketidaksempurnaan itu sendiri\"\n",
            "\n",
            "Pengalaman : Mengikuti organisasi, dan beberapa kepanitiaan\n",
            "\n",
            "Data yang diinput:\n",
            "Nama: Nuurul 'Azizah\n",
            "Jenis Kelamin: Perempuan\n",
            "Hobi: Olahraga\n",
            "Pendidikan: S1 teknik Informatika\n",
            "Pekerjaan: Mahasiswa\n",
            "Media Sosial: @na.zizae_\n",
            "Kutipan Favorit: -\n",
            "\n",
            "Pengalaman: Mengikuti organisasi, dan beberapa kepanitiaan\n"
          ]
        }
      ]
    }
  ]
}